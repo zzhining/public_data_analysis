{
  "cells": [
    {
      "cell_type": "markdown",
      "metadata": {
        "id": "view-in-github",
        "colab_type": "text"
      },
      "source": [
        "<a href=\"https://colab.research.google.com/github/zzhining/public_data_analysis/blob/main/w11_text_data_analysis_re.ipynb\" target=\"_parent\"><img src=\"https://colab.research.google.com/assets/colab-badge.svg\" alt=\"Open In Colab\"/></a>"
      ]
    },
    {
      "cell_type": "markdown",
      "source": [
        "# Week11. 텍스트 데이터의 분석\n",
        "---"
      ],
      "metadata": {
        "id": "o45OLDq7HPSf"
      }
    },
    {
      "cell_type": "markdown",
      "metadata": {
        "id": "sv8Y2nd77W58"
      },
      "source": [
        "## 기본 사용법"
      ]
    },
    {
      "cell_type": "code",
      "execution_count": null,
      "metadata": {
        "colab": {
          "base_uri": "https://localhost:8080/",
          "height": 35
        },
        "id": "bWXLPMa97W56",
        "outputId": "5b88d67b-4f3c-4559-c5d4-25ecd4526f9d"
      },
      "outputs": [
        {
          "data": {
            "application/vnd.google.colaboratory.intrinsic+json": {
              "type": "string"
            },
            "text/plain": [
              "'010-1234-5678'"
            ]
          },
          "execution_count": 7,
          "metadata": {},
          "output_type": "execute_result"
        }
      ],
      "source": [
        "import re\n",
        "str = '제 휴대폰번호는 010-1234-5678 입니다.'\n",
        "pattern = r'\\d{3}-\\d{4}-\\d{4}'\n",
        "match = re.search(pattern, str)\n",
        "match.group()"
      ]
    },
    {
      "cell_type": "code",
      "execution_count": null,
      "metadata": {
        "colab": {
          "base_uri": "https://localhost:8080/"
        },
        "id": "r7utqaUQ7W59",
        "outputId": "9f246905-3c25-4c88-bb14-73133b1a8367"
      },
      "outputs": [
        {
          "name": "stdout",
          "output_type": "stream",
          "text": [
            "찾은 문자열: c@xyz\n"
          ]
        }
      ],
      "source": [
        "str = '내 이메일 주소는 abc@xyz.com 입니다. 친구 이메일 주소는 def@xyz.com 입니다.'\n",
        "# search() : 특정 패턴을 찾음\n",
        "# \\w : 문자 또는 숫자\n",
        "result = re.search(r'\\w@\\w.\\w', str)\n",
        "if result:\n",
        "    # group() : 일치하는 문자열을 구함\n",
        "    print('찾은 문자열:', result.group())\n",
        "else:\n",
        "    print('패턴이 존재하지 않습니다.')    "
      ]
    },
    {
      "cell_type": "code",
      "execution_count": null,
      "metadata": {
        "colab": {
          "base_uri": "https://localhost:8080/",
          "height": 35
        },
        "id": "vbof-EdD7W5-",
        "outputId": "e3436f9b-486e-4ff8-9b6b-4580c91c7347"
      },
      "outputs": [
        {
          "data": {
            "application/vnd.google.colaboratory.intrinsic+json": {
              "type": "string"
            },
            "text/plain": [
              "'iig'"
            ]
          },
          "execution_count": 9,
          "metadata": {},
          "output_type": "execute_result"
        }
      ],
      "source": [
        "# . : 임의의 문자\n",
        "result = re.search(r'..g', 'piiig')\n",
        "result.group()"
      ]
    },
    {
      "cell_type": "code",
      "execution_count": null,
      "metadata": {
        "colab": {
          "base_uri": "https://localhost:8080/",
          "height": 35
        },
        "id": "5VFrej4q7W5_",
        "outputId": "fc72f6e2-d910-4a0f-fa2d-03527ef32d38"
      },
      "outputs": [
        {
          "data": {
            "application/vnd.google.colaboratory.intrinsic+json": {
              "type": "string"
            },
            "text/plain": [
              "'123'"
            ]
          },
          "execution_count": 10,
          "metadata": {},
          "output_type": "execute_result"
        }
      ],
      "source": [
        "# \\d : 숫자\n",
        "result = re.search(r'\\d\\d\\d', 'p123g')\n",
        "result.group()"
      ]
    },
    {
      "cell_type": "code",
      "execution_count": null,
      "metadata": {
        "colab": {
          "base_uri": "https://localhost:8080/",
          "height": 35
        },
        "id": "qxw1VIBE7W6A",
        "outputId": "49635a22-a900-4b8c-98be-31ff3feb946b"
      },
      "outputs": [
        {
          "data": {
            "application/vnd.google.colaboratory.intrinsic+json": {
              "type": "string"
            },
            "text/plain": [
              "'a'"
            ]
          },
          "execution_count": 11,
          "metadata": {},
          "output_type": "execute_result"
        }
      ],
      "source": [
        "# | : 둘 중에 하나\n",
        "result = re.search(r'a|z', 'abczde')\n",
        "result.group()"
      ]
    },
    {
      "cell_type": "code",
      "execution_count": null,
      "metadata": {
        "colab": {
          "base_uri": "https://localhost:8080/"
        },
        "id": "ZYT3VQ9H7W6A",
        "outputId": "c010b58c-73d6-4a81-c04d-7d6f0d2c7037"
      },
      "outputs": [
        {
          "name": "stdout",
          "output_type": "stream",
          "text": [
            "found abc\n"
          ]
        }
      ],
      "source": [
        "# ^ : 가장 앞의 글자가 일치해야 함\n",
        "result = re.search(r'^abc', 'abcde')\n",
        "\n",
        "if result:\n",
        "    print('found', result.group())\n",
        "else:\n",
        "    print('did not find')    "
      ]
    },
    {
      "cell_type": "code",
      "execution_count": null,
      "metadata": {
        "colab": {
          "base_uri": "https://localhost:8080/"
        },
        "id": "rVIEaPOs7W6B",
        "outputId": "009f7cdd-d1c4-4903-f98c-b8f478d0e35e"
      },
      "outputs": [
        {
          "name": "stdout",
          "output_type": "stream",
          "text": [
            "found bc\n"
          ]
        }
      ],
      "source": [
        "result = re.search(r'^bc', 'bcde')\n",
        "\n",
        "if result:\n",
        "    print('found', result.group())\n",
        "else:\n",
        "    print('did not find')    "
      ]
    },
    {
      "cell_type": "code",
      "execution_count": null,
      "metadata": {
        "colab": {
          "base_uri": "https://localhost:8080/"
        },
        "id": "VMWlfG577W6C",
        "outputId": "484a9fb9-e941-4343-fcb2-ccb375939db9"
      },
      "outputs": [
        {
          "name": "stdout",
          "output_type": "stream",
          "text": [
            "found de\n"
          ]
        }
      ],
      "source": [
        "# $ : 가장 뒤의 글자가 일치해야 함\n",
        "result = re.search(r'de$', 'abcde')\n",
        "\n",
        "if result:\n",
        "    print('found', result.group())\n",
        "else:\n",
        "    print('did not find')    "
      ]
    },
    {
      "cell_type": "code",
      "execution_count": null,
      "metadata": {
        "colab": {
          "base_uri": "https://localhost:8080/"
        },
        "id": "u_CYS2A87W6C",
        "outputId": "71988bd2-8665-4f3c-9216-04260bdf0ce7"
      },
      "outputs": [
        {
          "name": "stdout",
          "output_type": "stream",
          "text": [
            "found bc\n"
          ]
        }
      ],
      "source": [
        "result = re.search(r'bc$', 'abcdebc')\n",
        "\n",
        "if result:\n",
        "    print('found', result.group())\n",
        "else:\n",
        "    print('did not find')    "
      ]
    },
    {
      "cell_type": "markdown",
      "metadata": {
        "id": "rE2BgwU-7W6D"
      },
      "source": [
        "## 문자열의 r 기호"
      ]
    },
    {
      "cell_type": "code",
      "execution_count": null,
      "metadata": {
        "colab": {
          "base_uri": "https://localhost:8080/"
        },
        "id": "UF0opFhL7W6D",
        "outputId": "12cffcd8-36e4-4c02-ee1f-228d4046f24c"
      },
      "outputs": [
        {
          "name": "stdout",
          "output_type": "stream",
          "text": [
            "hi\n",
            "hi\n"
          ]
        }
      ],
      "source": [
        "# \\n : 개행문자\n",
        "print('hi\\nhi')"
      ]
    },
    {
      "cell_type": "code",
      "execution_count": null,
      "metadata": {
        "colab": {
          "base_uri": "https://localhost:8080/"
        },
        "id": "dofmxUUQ7W6D",
        "outputId": "7ef2818c-cec6-4244-d3ee-34c86e38ba63"
      },
      "outputs": [
        {
          "name": "stdout",
          "output_type": "stream",
          "text": [
            "hi\\nhi\n"
          ]
        }
      ],
      "source": [
        "# r을 붙이면 raw string으로 인식\n",
        "print(r'hi\\nhi')"
      ]
    },
    {
      "cell_type": "code",
      "execution_count": null,
      "metadata": {
        "colab": {
          "base_uri": "https://localhost:8080/",
          "height": 35
        },
        "id": "VwmZBwOY7W6E",
        "outputId": "b7d6abab-5961-4a26-df54-09a47a80d393"
      },
      "outputs": [
        {
          "data": {
            "application/vnd.google.colaboratory.intrinsic+json": {
              "type": "string"
            },
            "text/plain": [
              "'\\\\c'"
            ]
          },
          "execution_count": 18,
          "metadata": {},
          "output_type": "execute_result"
        }
      ],
      "source": [
        "# \\를 캐릭터를 처리하려면 \\ 하나를 더 붙임\n",
        "result = re.search(r'\\\\c', 'ab\\c')\n",
        "result.group()"
      ]
    },
    {
      "cell_type": "code",
      "execution_count": null,
      "metadata": {
        "colab": {
          "base_uri": "https://localhost:8080/",
          "height": 35
        },
        "id": "hLdLEWF27W6E",
        "outputId": "a5776165-db68-4035-bcde-33da9b2ee558"
      },
      "outputs": [
        {
          "data": {
            "application/vnd.google.colaboratory.intrinsic+json": {
              "type": "string"
            },
            "text/plain": [
              "'\\\\c'"
            ]
          },
          "execution_count": 19,
          "metadata": {},
          "output_type": "execute_result"
        }
      ],
      "source": [
        "# r을 사용하지 않으며 \\\\ 두 개를 붙여야 함\n",
        "result = re.search('\\\\\\c', 'ab\\c')\n",
        "result.group()"
      ]
    },
    {
      "cell_type": "markdown",
      "metadata": {
        "id": "6TMk5k2K7W6E"
      },
      "source": [
        "## 반복"
      ]
    },
    {
      "cell_type": "code",
      "execution_count": null,
      "metadata": {
        "colab": {
          "base_uri": "https://localhost:8080/"
        },
        "id": "-SkKnABa7W6E",
        "outputId": "429d10ab-4651-4c38-c2a5-c65a62cb38fc"
      },
      "outputs": [
        {
          "data": {
            "application/vnd.google.colaboratory.intrinsic+json": {
              "type": "string"
            },
            "text/plain": [
              "'pi'"
            ]
          },
          "execution_count": 20,
          "metadata": {},
          "output_type": "execute_result"
        }
      ],
      "source": [
        "# + : 하나 이상 반복\n",
        "result = re.search(r'pi+', 'pigg')\n",
        "result.group()"
      ]
    },
    {
      "cell_type": "code",
      "execution_count": null,
      "metadata": {
        "colab": {
          "base_uri": "https://localhost:8080/"
        },
        "id": "40MtIrJU7W6F",
        "outputId": "069f56d0-81e6-49e8-fbbe-4acd192ad9e5"
      },
      "outputs": [
        {
          "data": {
            "application/vnd.google.colaboratory.intrinsic+json": {
              "type": "string"
            },
            "text/plain": [
              "'1 2   3'"
            ]
          },
          "execution_count": 21,
          "metadata": {},
          "output_type": "execute_result"
        }
      ],
      "source": [
        "# * : 0 또는 하나 이상 반복\n",
        "# \\d : 숫자\n",
        "# \\s : 공백\n",
        "result = re.search(r'\\d\\s*\\d\\s*\\d', 'xx1 2   3xx')\n",
        "result.group()"
      ]
    },
    {
      "cell_type": "code",
      "execution_count": null,
      "metadata": {
        "colab": {
          "base_uri": "https://localhost:8080/"
        },
        "id": "2De2TsaV7W6F",
        "outputId": "506906e1-4652-4b95-8477-87087be020ab"
      },
      "outputs": [
        {
          "data": {
            "application/vnd.google.colaboratory.intrinsic+json": {
              "type": "string"
            },
            "text/plain": [
              "'12  3'"
            ]
          },
          "execution_count": 22,
          "metadata": {},
          "output_type": "execute_result"
        }
      ],
      "source": [
        "result = re.search(r'\\d\\s*\\d\\s*\\d', 'xx12  3xx')\n",
        "result.group()"
      ]
    },
    {
      "cell_type": "code",
      "execution_count": null,
      "metadata": {
        "colab": {
          "base_uri": "https://localhost:8080/"
        },
        "id": "UqamwP2O7W6F",
        "outputId": "06102a1e-b5e0-4adb-a0b0-7fb0fe1b65e4"
      },
      "outputs": [
        {
          "data": {
            "application/vnd.google.colaboratory.intrinsic+json": {
              "type": "string"
            },
            "text/plain": [
              "'123'"
            ]
          },
          "execution_count": 23,
          "metadata": {},
          "output_type": "execute_result"
        }
      ],
      "source": [
        "result = re.search(r'\\d\\s*\\d\\s*\\d', 'xx123xx')\n",
        "result.group()"
      ]
    },
    {
      "cell_type": "code",
      "execution_count": null,
      "metadata": {
        "colab": {
          "base_uri": "https://localhost:8080/"
        },
        "id": "SarZIzaZ7W6G",
        "outputId": "94a983e7-fe84-4a7c-85a1-cc4478d1034c"
      },
      "outputs": [
        {
          "data": {
            "application/vnd.google.colaboratory.intrinsic+json": {
              "type": "string"
            },
            "text/plain": [
              "'abc'"
            ]
          },
          "execution_count": 24,
          "metadata": {},
          "output_type": "execute_result"
        }
      ],
      "source": [
        "# ? : 0 또는 하나\n",
        "result = re.search(r'ab?c', 'abcdef')\n",
        "result.group()"
      ]
    },
    {
      "cell_type": "code",
      "execution_count": null,
      "metadata": {
        "colab": {
          "base_uri": "https://localhost:8080/"
        },
        "id": "hfwpO4iT7W6G",
        "outputId": "c6e854e2-d5b2-4f38-8356-d94178c0e153"
      },
      "outputs": [
        {
          "data": {
            "application/vnd.google.colaboratory.intrinsic+json": {
              "type": "string"
            },
            "text/plain": [
              "'ac'"
            ]
          },
          "execution_count": 25,
          "metadata": {},
          "output_type": "execute_result"
        }
      ],
      "source": [
        "result = re.search(r'ab?c', 'acdef')\n",
        "result.group()"
      ]
    },
    {
      "cell_type": "code",
      "execution_count": null,
      "metadata": {
        "colab": {
          "base_uri": "https://localhost:8080/"
        },
        "id": "xrCzX2NX7W6G",
        "outputId": "d0017ab1-eda5-4724-8627-c04f3b5a726e"
      },
      "outputs": [
        {
          "data": {
            "application/vnd.google.colaboratory.intrinsic+json": {
              "type": "string"
            },
            "text/plain": [
              "'bcc'"
            ]
          },
          "execution_count": 26,
          "metadata": {},
          "output_type": "execute_result"
        }
      ],
      "source": [
        "# {} : 횟수만큼 반복\n",
        "result = re.search(r'bc{2}', 'abccd')\n",
        "result.group()"
      ]
    },
    {
      "cell_type": "code",
      "execution_count": null,
      "metadata": {
        "colab": {
          "base_uri": "https://localhost:8080/"
        },
        "id": "zZoa8JQh7W6G",
        "outputId": "cb46343a-bf36-4e9a-b093-d3bd15f45deb"
      },
      "outputs": [
        {
          "data": {
            "application/vnd.google.colaboratory.intrinsic+json": {
              "type": "string"
            },
            "text/plain": [
              "'bcccccccccccccc'"
            ]
          },
          "execution_count": 27,
          "metadata": {},
          "output_type": "execute_result"
        }
      ],
      "source": [
        "result = re.search(r'bc{2,50}', 'abccccccccccccccd')\n",
        "result.group()"
      ]
    },
    {
      "cell_type": "code",
      "execution_count": null,
      "metadata": {
        "colab": {
          "base_uri": "https://localhost:8080/"
        },
        "id": "SR4T9NNz7W6H",
        "outputId": "31b0db4f-a3f4-4504-8c09-9e39a5ec7f49"
      },
      "outputs": [
        {
          "data": {
            "application/vnd.google.colaboratory.intrinsic+json": {
              "type": "string"
            },
            "text/plain": [
              "'b'"
            ]
          },
          "execution_count": 28,
          "metadata": {},
          "output_type": "execute_result"
        }
      ],
      "source": [
        "# 0번 이상\n",
        "result = re.search(r'bc{0,}', 'abd')\n",
        "result.group()"
      ]
    },
    {
      "cell_type": "code",
      "execution_count": null,
      "metadata": {
        "colab": {
          "base_uri": "https://localhost:8080/"
        },
        "id": "zkJ60kTY7W6H",
        "outputId": "83dfa5ab-d9f7-4c3a-c35b-f49653f52ea2"
      },
      "outputs": [
        {
          "data": {
            "application/vnd.google.colaboratory.intrinsic+json": {
              "type": "string"
            },
            "text/plain": [
              "'bc'"
            ]
          },
          "execution_count": 29,
          "metadata": {},
          "output_type": "execute_result"
        }
      ],
      "source": [
        "# 1번 이하\n",
        "result = re.search(r'bc{,1}', 'abcd')\n",
        "result.group()"
      ]
    },
    {
      "cell_type": "markdown",
      "metadata": {
        "id": "BOnIOXy_7W6H"
      },
      "source": [
        "## 이메일 예제"
      ]
    },
    {
      "cell_type": "code",
      "execution_count": null,
      "metadata": {
        "colab": {
          "base_uri": "https://localhost:8080/"
        },
        "id": "TYg8PvHn7W6H",
        "outputId": "d3acf87d-2387-4b27-fc38-3537435ad9aa"
      },
      "outputs": [
        {
          "data": {
            "application/vnd.google.colaboratory.intrinsic+json": {
              "type": "string"
            },
            "text/plain": [
              "'b@google'"
            ]
          },
          "execution_count": 30,
          "metadata": {},
          "output_type": "execute_result"
        }
      ],
      "source": [
        "str = 'purple alice-b@google.com monkey dishwasher'\n",
        "\n",
        "result = re.search(r'\\w+@\\w+', str)\n",
        "result.group()"
      ]
    },
    {
      "cell_type": "code",
      "execution_count": null,
      "metadata": {
        "colab": {
          "base_uri": "https://localhost:8080/"
        },
        "id": "g2R-rWXs7W6H",
        "outputId": "97d5814e-7833-43f7-a7ff-abc94efdb1a9"
      },
      "outputs": [
        {
          "data": {
            "application/vnd.google.colaboratory.intrinsic+json": {
              "type": "string"
            },
            "text/plain": [
              "'alice-b@google.com'"
            ]
          },
          "execution_count": 31,
          "metadata": {},
          "output_type": "execute_result"
        }
      ],
      "source": [
        "# [] : 괄호안에 있는 문자들 중 하나\n",
        "result = re.search(r'[\\w.-]+@[\\w.-]+', str)\n",
        "result.group()"
      ]
    },
    {
      "cell_type": "markdown",
      "metadata": {
        "id": "xht1zlrm7W6I"
      },
      "source": [
        "## 그룹 추출"
      ]
    },
    {
      "cell_type": "code",
      "execution_count": null,
      "metadata": {
        "colab": {
          "base_uri": "https://localhost:8080/"
        },
        "id": "rD3A55H97W6I",
        "outputId": "3d4d8959-57c8-4ff3-a8a5-8c67e989ad31"
      },
      "outputs": [
        {
          "name": "stdout",
          "output_type": "stream",
          "text": [
            "alice-b@google.com\n",
            "alice-b\n",
            "google.com\n"
          ]
        }
      ],
      "source": [
        "str = 'purple alice-b@google.com monkey dishwasher'\n",
        "\n",
        "# () : 그룹을 지정\n",
        "result = re.search(r'([\\w.-]+)@([\\w.-]+)', str)\n",
        "print(result.group())  # 전체\n",
        "print(result.group(1)) # 첫 번째 그룹\n",
        "print(result.group(2)) # 두 번째 그룹"
      ]
    },
    {
      "cell_type": "markdown",
      "metadata": {
        "id": "axcc34bQ7W6I"
      },
      "source": [
        "## 문자열의 위치"
      ]
    },
    {
      "cell_type": "code",
      "execution_count": null,
      "metadata": {
        "colab": {
          "base_uri": "https://localhost:8080/"
        },
        "id": "7PhW8Jqz7W6I",
        "outputId": "e28cb730-0135-4f2b-b773-5ea82f831120"
      },
      "outputs": [
        {
          "data": {
            "application/vnd.google.colaboratory.intrinsic+json": {
              "type": "string"
            },
            "text/plain": [
              "'bc'"
            ]
          },
          "execution_count": 33,
          "metadata": {},
          "output_type": "execute_result"
        }
      ],
      "source": [
        "result = re.search(r'bc', 'abcde')\n",
        "result.group()"
      ]
    },
    {
      "cell_type": "code",
      "execution_count": null,
      "metadata": {
        "colab": {
          "base_uri": "https://localhost:8080/"
        },
        "id": "YoMVNaqB7W6I",
        "outputId": "67fc55d4-e6fd-4e8c-b19a-3ed79b875afc"
      },
      "outputs": [
        {
          "data": {
            "text/plain": [
              "1"
            ]
          },
          "execution_count": 34,
          "metadata": {},
          "output_type": "execute_result"
        }
      ],
      "source": [
        "result = re.search(r'bc', 'abcde')\n",
        "result.start() # 시작 위치"
      ]
    },
    {
      "cell_type": "code",
      "execution_count": null,
      "metadata": {
        "colab": {
          "base_uri": "https://localhost:8080/"
        },
        "id": "ojaP3CiE7W6I",
        "outputId": "7a371174-f5c0-459a-d555-b6a664aede74"
      },
      "outputs": [
        {
          "data": {
            "text/plain": [
              "3"
            ]
          },
          "execution_count": 35,
          "metadata": {},
          "output_type": "execute_result"
        }
      ],
      "source": [
        "result = re.search(r'bc', 'abcde')\n",
        "result.end() # 끝 위치"
      ]
    },
    {
      "cell_type": "code",
      "execution_count": null,
      "metadata": {
        "colab": {
          "base_uri": "https://localhost:8080/"
        },
        "id": "ZBYIdvZQ7W6J",
        "outputId": "da7a77d4-7dd2-47c8-e2af-9c4bf46124ae"
      },
      "outputs": [
        {
          "data": {
            "text/plain": [
              "(1, 3)"
            ]
          },
          "execution_count": 36,
          "metadata": {},
          "output_type": "execute_result"
        }
      ],
      "source": [
        "result = re.search(r'bc', 'abcde')\n",
        "result.span() # 범위"
      ]
    },
    {
      "cell_type": "markdown",
      "metadata": {
        "id": "YpkfL5B57W6J"
      },
      "source": [
        "## 일치"
      ]
    },
    {
      "cell_type": "code",
      "execution_count": null,
      "metadata": {
        "colab": {
          "base_uri": "https://localhost:8080/"
        },
        "id": "oEgFCKsu7W6J",
        "outputId": "a5a2fe0a-d053-483b-b1fd-402805159531"
      },
      "outputs": [
        {
          "name": "stdout",
          "output_type": "stream",
          "text": [
            "found python\n"
          ]
        }
      ],
      "source": [
        "# match() : 제일 앞부분부터 일치 판정\n",
        "result = re.match(r'python', 'python123')\n",
        "\n",
        "if result:\n",
        "    print('found', result.group())\n",
        "else:\n",
        "    print('did not find')    "
      ]
    },
    {
      "cell_type": "code",
      "execution_count": null,
      "metadata": {
        "colab": {
          "base_uri": "https://localhost:8080/"
        },
        "id": "DRX9sFQA7W6J",
        "outputId": "69c13c0e-531c-4b00-946e-d172be0c80dc"
      },
      "outputs": [
        {
          "name": "stdout",
          "output_type": "stream",
          "text": [
            "did not find\n"
          ]
        }
      ],
      "source": [
        "result = re.match(r'123', 'python123')\n",
        "\n",
        "if result:\n",
        "    print('found', result.group())\n",
        "else:\n",
        "    print('did not find')    "
      ]
    },
    {
      "cell_type": "code",
      "execution_count": null,
      "metadata": {
        "colab": {
          "base_uri": "https://localhost:8080/"
        },
        "id": "mXkqtV8g7W6J",
        "outputId": "8ba2803f-e179-4b0a-c11d-0f7e1c13c0ef"
      },
      "outputs": [
        {
          "name": "stdout",
          "output_type": "stream",
          "text": [
            "found 123\n"
          ]
        }
      ],
      "source": [
        "result = re.search(r'123', 'python123')\n",
        "\n",
        "if result:\n",
        "    print('found', result.group())\n",
        "else:\n",
        "    print('did not find')    "
      ]
    },
    {
      "cell_type": "markdown",
      "metadata": {
        "id": "ZpPbciqN7W6K"
      },
      "source": [
        "## 전체 검색"
      ]
    },
    {
      "cell_type": "code",
      "execution_count": null,
      "metadata": {
        "colab": {
          "base_uri": "https://localhost:8080/"
        },
        "id": "aAI4dPEg7W6K",
        "outputId": "bb81e705-2604-4b61-d1c8-e62553d621e0"
      },
      "outputs": [
        {
          "name": "stdout",
          "output_type": "stream",
          "text": [
            "alice@google.com\n",
            "bob@abc.com\n"
          ]
        }
      ],
      "source": [
        "str = 'purple alice@google.com, blah monkey bob@abc.com blah dishwasher'\n",
        "\n",
        "# search() : 가장 왼쪽의 일치 부분만 구함\n",
        "# findall() : 일치하는 부분을 모두 구함\n",
        "emails = re.findall(r'[\\w.-]+@[\\w.-]+', str)\n",
        "# emails = re.search(r'[\\w.-]+@[\\w.-]+', str)\n",
        "for email in emails:\n",
        "    print(email)    "
      ]
    },
    {
      "cell_type": "markdown",
      "metadata": {
        "id": "qPgOHvvd7W6K"
      },
      "source": [
        "## 치환"
      ]
    },
    {
      "cell_type": "code",
      "execution_count": null,
      "metadata": {
        "colab": {
          "base_uri": "https://localhost:8080/"
        },
        "id": "QA9yzO2Y7W6K",
        "outputId": "558965d5-1d65-49ee-a42e-12a32320940b"
      },
      "outputs": [
        {
          "data": {
            "text/plain": [
              "'앨리스의 이메일 주소는 alice@naver.com 이고, 밥의 이메일 주소는 bob@naver.com 입니다.'"
            ]
          },
          "execution_count": 5,
          "metadata": {},
          "output_type": "execute_result"
        }
      ],
      "source": [
        "str = '앨리스의 이메일 주소는 alice@google.com 이고, 밥의 이메일 주소는 bob@abc.com 입니다.'\n",
        "\n",
        "# sub() : 문자열을 찾아서 치환\n",
        "# search()와 달리 치환된 문자열을 바로 리턴\n",
        "# \\1 : 그룹1의 문자열\n",
        "# \\2 : 그룹2의 문자열\n",
        "result = re.sub(r'([\\w.-]+)@([\\w.-]+)', r'\\1@naver.com', str)\n",
        "result"
      ]
    },
    {
      "cell_type": "markdown",
      "metadata": {
        "id": "OUKdSuEi7W6K"
      },
      "source": [
        "## 컴파일"
      ]
    },
    {
      "cell_type": "code",
      "execution_count": null,
      "metadata": {
        "colab": {
          "base_uri": "https://localhost:8080/",
          "height": 35
        },
        "id": "OEgn-CJE7W6K",
        "outputId": "6abf38cd-bb14-4b99-b9dd-68dcc675ede9"
      },
      "outputs": [
        {
          "data": {
            "application/vnd.google.colaboratory.intrinsic+json": {
              "type": "string"
            },
            "text/plain": [
              "'python'"
            ]
          },
          "execution_count": 42,
          "metadata": {},
          "output_type": "execute_result"
        }
      ],
      "source": [
        "# 패턴을 미리 정의하고 재사용\n",
        "pattern = re.compile(r'[a-z]+')\n",
        "result = pattern.search('python123')\n",
        "result.group()"
      ]
    }
  ],
  "metadata": {
    "colab": {
      "provenance": [],
      "toc_visible": true,
      "include_colab_link": true
    },
    "kernelspec": {
      "display_name": "Python 3",
      "language": "python",
      "name": "python3"
    },
    "language_info": {
      "codemirror_mode": {
        "name": "ipython",
        "version": 3
      },
      "file_extension": ".py",
      "mimetype": "text/x-python",
      "name": "python",
      "nbconvert_exporter": "python",
      "pygments_lexer": "ipython3",
      "version": "3.8.5"
    },
    "toc": {
      "base_numbering": 1,
      "nav_menu": {},
      "number_sections": false,
      "sideBar": true,
      "skip_h1_title": false,
      "title_cell": "Table of Contents",
      "title_sidebar": "Contents",
      "toc_cell": false,
      "toc_position": {
        "height": "calc(100% - 180px)",
        "left": "10px",
        "top": "150px",
        "width": "136.58px"
      },
      "toc_section_display": true,
      "toc_window_display": true
    }
  },
  "nbformat": 4,
  "nbformat_minor": 0
}