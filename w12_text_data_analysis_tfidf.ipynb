{
  "cells": [
    {
      "cell_type": "markdown",
      "metadata": {
        "id": "view-in-github",
        "colab_type": "text"
      },
      "source": [
        "<a href=\"https://colab.research.google.com/github/zzhining/public_data_analysis/blob/main/w12_text_data_analysis_tfidf.ipynb\" target=\"_parent\"><img src=\"https://colab.research.google.com/assets/colab-badge.svg\" alt=\"Open In Colab\"/></a>"
      ]
    },
    {
      "cell_type": "code",
      "source": [
        "!pip install konlpy"
      ],
      "metadata": {
        "colab": {
          "base_uri": "https://localhost:8080/"
        },
        "id": "v4wGsD-VrdK9",
        "outputId": "5042da81-947a-47c4-8e96-56bccc3f46d5"
      },
      "execution_count": 1,
      "outputs": [
        {
          "output_type": "stream",
          "name": "stdout",
          "text": [
            "Looking in indexes: https://pypi.org/simple, https://us-python.pkg.dev/colab-wheels/public/simple/\n",
            "Requirement already satisfied: konlpy in /usr/local/lib/python3.8/dist-packages (0.6.0)\n",
            "Requirement already satisfied: numpy>=1.6 in /usr/local/lib/python3.8/dist-packages (from konlpy) (1.21.6)\n",
            "Requirement already satisfied: lxml>=4.1.0 in /usr/local/lib/python3.8/dist-packages (from konlpy) (4.9.2)\n",
            "Requirement already satisfied: JPype1>=0.7.0 in /usr/local/lib/python3.8/dist-packages (from konlpy) (1.4.1)\n",
            "Requirement already satisfied: packaging in /usr/local/lib/python3.8/dist-packages (from JPype1>=0.7.0->konlpy) (23.0)\n"
          ]
        }
      ]
    },
    {
      "cell_type": "markdown",
      "metadata": {
        "id": "suDQ_6iO9fwJ"
      },
      "source": [
        "<br>\n",
        "<br>\n",
        "\n",
        "# Bag-of-Words"
      ]
    },
    {
      "cell_type": "code",
      "execution_count": 2,
      "metadata": {
        "id": "CDELvci49fwK",
        "outputId": "7ae98280-f27c-4806-ec45-74f465186726",
        "colab": {
          "base_uri": "https://localhost:8080/"
        }
      },
      "outputs": [
        {
          "output_type": "stream",
          "name": "stdout",
          "text": [
            "['나', '의', '살던', '고향', '은', '꽃', '피는', '산골']\n"
          ]
        }
      ],
      "source": [
        "from konlpy.tag import Okt\n",
        "tokenizer = Okt()  \n",
        "text = \"나의 살던 고향은 꽃피는 산골\"\n",
        "tokens = tokenizer.morphs(text)\n",
        "\n",
        "print(tokens)"
      ]
    },
    {
      "cell_type": "code",
      "execution_count": 3,
      "metadata": {
        "id": "rlETyDP49fwL",
        "outputId": "f2d65864-03f1-41e1-f8c7-021fbad730f5",
        "colab": {
          "base_uri": "https://localhost:8080/"
        }
      },
      "outputs": [
        {
          "output_type": "stream",
          "name": "stdout",
          "text": [
            "{'나': 0, '의': 1, '살던': 2, '고향': 3, '은': 4, '꽃': 5, '피는': 6, '산골': 7}\n"
          ]
        }
      ],
      "source": [
        "# 단어-인덱스 딕셔너리\n",
        "word_to_index = {}\n",
        "\n",
        "# 토큰을 인덱스로 변환\n",
        "for token in tokens:\n",
        "    if token not in word_to_index.keys():\n",
        "        word_to_index[token] = len(word_to_index)\n",
        "        \n",
        "print(word_to_index)"
      ]
    },
    {
      "cell_type": "code",
      "execution_count": 4,
      "metadata": {
        "id": "u8BAu_YS9fwL"
      },
      "outputs": [],
      "source": [
        "# BoW로 변환\n",
        "def convert_bow(sentence, word_to_index):\n",
        "    \n",
        "    # 벡터를 단어의 개수만큼 0으로 초기화\n",
        "    vector = [0]*(len(word_to_index))\n",
        "\n",
        "    # 문장을 토큰으로 분리\n",
        "    tokenizer = Okt()\n",
        "    tokens = tokenizer.morphs(sentence)\n",
        "    \n",
        "    # 단어의 인덱스 위치에 1 설정\n",
        "    for token in tokens:\n",
        "        if token in word_to_index.keys():\n",
        "            vector[word_to_index[token]] += 1\n",
        "    \n",
        "    return vector"
      ]
    },
    {
      "cell_type": "code",
      "source": [
        "print(word_to_index)"
      ],
      "metadata": {
        "colab": {
          "base_uri": "https://localhost:8080/"
        },
        "id": "Je5Os0U9Zxsq",
        "outputId": "adbeae08-a064-4300-f882-6f0104379d42"
      },
      "execution_count": 5,
      "outputs": [
        {
          "output_type": "stream",
          "name": "stdout",
          "text": [
            "{'나': 0, '의': 1, '살던': 2, '고향': 3, '은': 4, '꽃': 5, '피는': 6, '산골': 7}\n"
          ]
        }
      ]
    },
    {
      "cell_type": "code",
      "execution_count": 6,
      "metadata": {
        "id": "6tDJmbzn9fwM",
        "outputId": "ad763e6d-f221-43ea-a913-b68c662fdec7",
        "colab": {
          "base_uri": "https://localhost:8080/"
        }
      },
      "outputs": [
        {
          "output_type": "execute_result",
          "data": {
            "text/plain": [
              "[0, 0, 0, 0, 0, 2, 0, 0]"
            ]
          },
          "metadata": {},
          "execution_count": 6
        }
      ],
      "source": [
        "convert_bow(\"복숭아 꽃 살구 꽃 아기 진달래\", word_to_index)"
      ]
    },
    {
      "cell_type": "code",
      "execution_count": 7,
      "metadata": {
        "id": "ASWoy5T69fwM",
        "outputId": "d219d2d3-2542-4315-b30e-d97edf4d8609",
        "colab": {
          "base_uri": "https://localhost:8080/"
        }
      },
      "outputs": [
        {
          "output_type": "execute_result",
          "data": {
            "text/plain": [
              "[1, 1, 0, 1, 1, 0, 0, 1]"
            ]
          },
          "metadata": {},
          "execution_count": 7
        }
      ],
      "source": [
        "convert_bow(\"나의 고향은 산골입니다.\", word_to_index)"
      ]
    },
    {
      "cell_type": "markdown",
      "metadata": {
        "id": "v4qqOY-o9fwP"
      },
      "source": [
        "<br>\n",
        "<br>\n",
        "\n",
        "# TF-IDF"
      ]
    },
    {
      "cell_type": "code",
      "source": [
        "from sklearn.feature_extraction.text import TfidfVectorizer\n",
        "\n",
        "documents = [\n",
        "    '나의 살던 고향은 꽃 피는 산골',\n",
        "    '복숭아 꽃 살구 꽃 아기 진달래',\n",
        "    '울긋불긋 꽃 대궐 차리인 동네',\n",
        "    '그 속에서 놀던 때가 그립습니다'\n",
        "]\n",
        "\n",
        "# TF-IDF로 벡터화\n",
        "# 1글자도 인식이 되도록 토큰 패턴 변경\n",
        "tf_idf = TfidfVectorizer(token_pattern = r\"(?u)\\b\\w+\\b\")\n",
        "tf_idf.fit(documents)\n",
        "\n",
        "print(tf_idf.vocabulary_)"
      ],
      "metadata": {
        "colab": {
          "base_uri": "https://localhost:8080/"
        },
        "id": "wB29cT64Wf6n",
        "outputId": "ea26b33c-81e1-46d5-f734-216b9f4e1d3d"
      },
      "execution_count": 8,
      "outputs": [
        {
          "output_type": "stream",
          "name": "stdout",
          "text": [
            "{'나의': 4, '살던': 12, '고향은': 0, '꽃': 3, '피는': 18, '산골': 10, '복숭아': 9, '살구': 11, '아기': 14, '진달래': 16, '울긋불긋': 15, '대궐': 6, '차리인': 17, '동네': 7, '그': 1, '속에서': 13, '놀던': 5, '때가': 8, '그립습니다': 2}\n"
          ]
        }
      ]
    },
    {
      "cell_type": "code",
      "source": [
        "tf_idf_dict = {v:k for k,v in tf_idf.vocabulary_.items()} "
      ],
      "metadata": {
        "id": "bpX9n6xdXz4r"
      },
      "execution_count": 9,
      "outputs": []
    },
    {
      "cell_type": "code",
      "source": [
        "# 다른 문서에도 많이 나온 단어는 낮은 수치\n",
        "tf_idf.transform(['꽃 동네 새 동네 나의 옛고향']).toarray()"
      ],
      "metadata": {
        "colab": {
          "base_uri": "https://localhost:8080/"
        },
        "id": "UEVOT1DmWpdi",
        "outputId": "327ade85-07a6-466c-f29f-d34cca1aed8d"
      },
      "execution_count": 10,
      "outputs": [
        {
          "output_type": "execute_result",
          "data": {
            "text/plain": [
              "array([[0.        , 0.        , 0.        , 0.27448674, 0.43003652,\n",
              "        0.        , 0.        , 0.86007303, 0.        , 0.        ,\n",
              "        0.        , 0.        , 0.        , 0.        , 0.        ,\n",
              "        0.        , 0.        , 0.        , 0.        ]])"
            ]
          },
          "metadata": {},
          "execution_count": 10
        }
      ]
    },
    {
      "cell_type": "code",
      "source": [
        "tf_idf_dict[3], tf_idf_dict[4], tf_idf_dict[7]"
      ],
      "metadata": {
        "colab": {
          "base_uri": "https://localhost:8080/"
        },
        "id": "DER6jaRpYlCM",
        "outputId": "fb6f3891-b502-4018-a7a9-4f925e42e985"
      },
      "execution_count": 11,
      "outputs": [
        {
          "output_type": "execute_result",
          "data": {
            "text/plain": [
              "('꽃', '나의', '동네')"
            ]
          },
          "metadata": {},
          "execution_count": 11
        }
      ]
    },
    {
      "cell_type": "code",
      "source": [
        "# 같은 문서에 많이 나온 단어는 높은 수치\n",
        "tf_idf.transform(['복숭아 같은 아기 얼굴, 진달래 같은 아기 얼굴']).toarray()"
      ],
      "metadata": {
        "colab": {
          "base_uri": "https://localhost:8080/"
        },
        "id": "HF5QRJOGW2c7",
        "outputId": "326a8c49-3c07-4bf0-b970-31388ce469c8"
      },
      "execution_count": 12,
      "outputs": [
        {
          "output_type": "execute_result",
          "data": {
            "text/plain": [
              "array([[0.        , 0.        , 0.        , 0.        , 0.        ,\n",
              "        0.        , 0.        , 0.        , 0.        , 0.40824829,\n",
              "        0.        , 0.        , 0.        , 0.        , 0.81649658,\n",
              "        0.        , 0.40824829, 0.        , 0.        ]])"
            ]
          },
          "metadata": {},
          "execution_count": 12
        }
      ]
    },
    {
      "cell_type": "code",
      "source": [
        "tf_idf_dict[9], tf_idf_dict[14], tf_idf_dict[16]"
      ],
      "metadata": {
        "colab": {
          "base_uri": "https://localhost:8080/"
        },
        "id": "cNR5c_R-XXF-",
        "outputId": "3adfdf98-67ba-4342-9b67-3c186da34945"
      },
      "execution_count": 13,
      "outputs": [
        {
          "output_type": "execute_result",
          "data": {
            "text/plain": [
              "('복숭아', '아기', '진달래')"
            ]
          },
          "metadata": {},
          "execution_count": 13
        }
      ]
    }
  ],
  "metadata": {
    "kernelspec": {
      "display_name": "Python 3",
      "language": "python",
      "name": "python3"
    },
    "language_info": {
      "codemirror_mode": {
        "name": "ipython",
        "version": 3
      },
      "file_extension": ".py",
      "mimetype": "text/x-python",
      "name": "python",
      "nbconvert_exporter": "python",
      "pygments_lexer": "ipython3",
      "version": "3.7.6"
    },
    "toc": {
      "base_numbering": 1,
      "nav_menu": {},
      "number_sections": false,
      "sideBar": true,
      "skip_h1_title": false,
      "title_cell": "Table of Contents",
      "title_sidebar": "Contents",
      "toc_cell": false,
      "toc_position": {},
      "toc_section_display": true,
      "toc_window_display": false
    },
    "colab": {
      "provenance": [],
      "include_colab_link": true
    }
  },
  "nbformat": 4,
  "nbformat_minor": 0
}