{
  "cells": [
    {
      "cell_type": "markdown",
      "metadata": {
        "id": "view-in-github",
        "colab_type": "text"
      },
      "source": [
        "<a href=\"https://colab.research.google.com/github/zzhining/public_data_analysis/blob/main/w11_text_data_basic.ipynb\" target=\"_parent\"><img src=\"https://colab.research.google.com/assets/colab-badge.svg\" alt=\"Open In Colab\"/></a>"
      ]
    },
    {
      "cell_type": "markdown",
      "metadata": {
        "id": "gPIQVWrVI8M3"
      },
      "source": [
        "# 문자열다루기"
      ]
    },
    {
      "cell_type": "markdown",
      "metadata": {
        "id": "dKZzmz0lI8M5"
      },
      "source": [
        "## split()\n",
        " - 구분자를 기준으로 문자열을 쪼개주는 함수\n",
        " - 리스트로 반환"
      ]
    },
    {
      "cell_type": "code",
      "execution_count": 1,
      "metadata": {
        "colab": {
          "base_uri": "https://localhost:8080/"
        },
        "id": "wHYHOmWeI8M5",
        "outputId": "91c00e97-c946-4124-b80c-4babfd955d53"
      },
      "outputs": [
        {
          "output_type": "execute_result",
          "data": {
            "text/plain": [
              "['에스프레소', '아메리카노', '카페라테', '카푸치노']"
            ]
          },
          "metadata": {},
          "execution_count": 1
        }
      ],
      "source": [
        "#split\n",
        "\n",
        "str = \"에스프레소, 아메리카노, 카페라테, 카푸치노\"\n",
        "str.split(\", \")"
      ]
    },
    {
      "cell_type": "code",
      "execution_count": 2,
      "metadata": {
        "colab": {
          "base_uri": "https://localhost:8080/"
        },
        "id": "EX2uTC_qI8M7",
        "outputId": "e9684748-1431-4b5e-c056-a55ae4c13fd0"
      },
      "outputs": [
        {
          "output_type": "execute_result",
          "data": {
            "text/plain": [
              "['+82', '10', '1234', '5678']"
            ]
          },
          "metadata": {},
          "execution_count": 2
        }
      ],
      "source": [
        "str1 = \"+82-10-1234-5678\"\n",
        "str1.split(\"-\")"
      ]
    },
    {
      "cell_type": "code",
      "execution_count": 3,
      "metadata": {
        "colab": {
          "base_uri": "https://localhost:8080/"
        },
        "id": "aBDPUkeLI8M7",
        "outputId": "7f477492-d2ad-418a-b15c-3a20ab0dda9f"
      },
      "outputs": [
        {
          "output_type": "execute_result",
          "data": {
            "text/plain": [
              "['+82', '10-1234-5678']"
            ]
          },
          "metadata": {},
          "execution_count": 3
        }
      ],
      "source": [
        "str1.split(\"-\", 1)"
      ]
    },
    {
      "cell_type": "code",
      "execution_count": 4,
      "metadata": {
        "colab": {
          "base_uri": "https://localhost:8080/"
        },
        "id": "y4Xfl5uqI8M7",
        "outputId": "87fc9023-eb17-4f0e-e2da-2e72c652cc2b"
      },
      "outputs": [
        {
          "output_type": "execute_result",
          "data": {
            "text/plain": [
              "['+82', '10', '1234-5678']"
            ]
          },
          "metadata": {},
          "execution_count": 4
        }
      ],
      "source": [
        "str1.split(\"-\", maxsplit=2)"
      ]
    },
    {
      "cell_type": "markdown",
      "metadata": {
        "id": "XRO4kqEbI8M8"
      },
      "source": [
        "## strip()\n",
        "\n",
        "- 문자열에 포함된 불필요한 문구를 벗겨내는 함수\n"
      ]
    },
    {
      "cell_type": "code",
      "execution_count": 5,
      "metadata": {
        "id": "I_WI8-sAI8M8"
      },
      "outputs": [],
      "source": [
        "# strip()\n",
        "\n",
        "str2 = \"aaaaPythonaaaa\".strip(\"a\")"
      ]
    },
    {
      "cell_type": "code",
      "execution_count": 6,
      "metadata": {
        "colab": {
          "base_uri": "https://localhost:8080/",
          "height": 35
        },
        "id": "AWTRMMg4I8M8",
        "outputId": "261d7fb5-850a-4ea6-8064-2e043680e2d7"
      },
      "outputs": [
        {
          "output_type": "execute_result",
          "data": {
            "text/plain": [
              "'Python'"
            ],
            "application/vnd.google.colaboratory.intrinsic+json": {
              "type": "string"
            }
          },
          "metadata": {},
          "execution_count": 6
        }
      ],
      "source": [
        "str2"
      ]
    },
    {
      "cell_type": "code",
      "execution_count": 7,
      "metadata": {
        "colab": {
          "base_uri": "https://localhost:8080/",
          "height": 35
        },
        "id": "LgZskw82I8M8",
        "outputId": "fbb1a6e7-792d-4fbf-c903-de2a284556fc"
      },
      "outputs": [
        {
          "output_type": "execute_result",
          "data": {
            "text/plain": [
              "'bbPythonaaaabb'"
            ],
            "application/vnd.google.colaboratory.intrinsic+json": {
              "type": "string"
            }
          },
          "metadata": {},
          "execution_count": 7
        }
      ],
      "source": [
        "str3 = \"aaabbPythonaaaabb\"\n",
        "str3.strip(\"a\")"
      ]
    },
    {
      "cell_type": "code",
      "execution_count": 8,
      "metadata": {
        "colab": {
          "base_uri": "https://localhost:8080/",
          "height": 35
        },
        "id": "stXLWJEGI8M8",
        "outputId": "cab630f6-54a4-4402-8721-0ad51764c992"
      },
      "outputs": [
        {
          "output_type": "execute_result",
          "data": {
            "text/plain": [
              "'bbPythonbb'"
            ],
            "application/vnd.google.colaboratory.intrinsic+json": {
              "type": "string"
            }
          },
          "metadata": {},
          "execution_count": 8
        }
      ],
      "source": [
        "str4 = \"aaabbPythonbbaaaa\"\n",
        "str4.strip(\"a\")"
      ]
    },
    {
      "cell_type": "code",
      "execution_count": 9,
      "metadata": {
        "colab": {
          "base_uri": "https://localhost:8080/",
          "height": 35
        },
        "id": "-HdM0roRI8M9",
        "outputId": "e7bd7f55-3f67-46fb-9968-e07f4c862f35"
      },
      "outputs": [
        {
          "output_type": "execute_result",
          "data": {
            "text/plain": [
              "'aaabbPythonbbaaaa'"
            ],
            "application/vnd.google.colaboratory.intrinsic+json": {
              "type": "string"
            }
          },
          "metadata": {},
          "execution_count": 9
        }
      ],
      "source": [
        "str4"
      ]
    },
    {
      "cell_type": "code",
      "execution_count": 10,
      "metadata": {
        "colab": {
          "base_uri": "https://localhost:8080/",
          "height": 35
        },
        "id": "WCcwvBb_I8M9",
        "outputId": "19efb976-80c6-4bb4-e777-ba3e57be4813"
      },
      "outputs": [
        {
          "output_type": "execute_result",
          "data": {
            "text/plain": [
              "'Python'"
            ],
            "application/vnd.google.colaboratory.intrinsic+json": {
              "type": "string"
            }
          },
          "metadata": {},
          "execution_count": 10
        }
      ],
      "source": [
        "str4.strip(\"ab\")"
      ]
    },
    {
      "cell_type": "code",
      "execution_count": 11,
      "metadata": {
        "colab": {
          "base_uri": "https://localhost:8080/",
          "height": 35
        },
        "id": "AOJwj1qNI8M9",
        "outputId": "c5b78e6a-ee03-4408-b6cb-eec7a916bb89"
      },
      "outputs": [
        {
          "output_type": "execute_result",
          "data": {
            "text/plain": [
              "'aaabbPythonbbaaaa'"
            ],
            "application/vnd.google.colaboratory.intrinsic+json": {
              "type": "string"
            }
          },
          "metadata": {},
          "execution_count": 11
        }
      ],
      "source": [
        "str4"
      ]
    },
    {
      "cell_type": "code",
      "execution_count": 12,
      "metadata": {
        "colab": {
          "base_uri": "https://localhost:8080/",
          "height": 35
        },
        "id": "Qalz4hujI8M9",
        "outputId": "e39061aa-7de7-454f-a1b3-1d6dd8daf014"
      },
      "outputs": [
        {
          "output_type": "execute_result",
          "data": {
            "text/plain": [
              "'Python'"
            ],
            "application/vnd.google.colaboratory.intrinsic+json": {
              "type": "string"
            }
          },
          "metadata": {},
          "execution_count": 12
        }
      ],
      "source": [
        "str4.strip(\"ba\")"
      ]
    },
    {
      "cell_type": "code",
      "execution_count": 13,
      "metadata": {
        "colab": {
          "base_uri": "https://localhost:8080/",
          "height": 35
        },
        "id": "PPvAyjRcI8M-",
        "outputId": "2254ed6e-46d2-489d-efbb-ade75553ca3f"
      },
      "outputs": [
        {
          "output_type": "execute_result",
          "data": {
            "text/plain": [
              "'Python'"
            ],
            "application/vnd.google.colaboratory.intrinsic+json": {
              "type": "string"
            }
          },
          "metadata": {},
          "execution_count": 13
        }
      ],
      "source": [
        "str5 = \"#####****!!!! Python !!!!%%%%!!###\"\n",
        "str5.strip(\"#*!% \")"
      ]
    },
    {
      "cell_type": "code",
      "execution_count": 14,
      "metadata": {
        "colab": {
          "base_uri": "https://localhost:8080/"
        },
        "id": "VG9YSlDvI8M-",
        "outputId": "a7182c6c-89b2-4811-be35-4819b4e9b4c3"
      },
      "outputs": [
        {
          "output_type": "stream",
          "name": "stdout",
          "text": [
            " Python \n",
            " Python 0000\n",
            "0000 Python \n"
          ]
        }
      ],
      "source": [
        "str6 = \"0000 Python 0000\"\n",
        "print(str6.strip('0'))\n",
        "print(str6.lstrip('0'))\n",
        "print(str6.rstrip('0'))"
      ]
    },
    {
      "cell_type": "markdown",
      "metadata": {
        "id": "J6_by7gcI8M-"
      },
      "source": [
        "## 더하기 연산자\n",
        "\n",
        " - 문자열 + 문자열 = 합쳐진 문자열"
      ]
    },
    {
      "cell_type": "code",
      "execution_count": 15,
      "metadata": {
        "colab": {
          "base_uri": "https://localhost:8080/"
        },
        "id": "GPxLovPOI8M-",
        "outputId": "b7aebe80-0e23-40d0-c60d-339bd8b52ea4"
      },
      "outputs": [
        {
          "output_type": "stream",
          "name": "stdout",
          "text": [
            "철수님, 주소와 전화번호를 입력해주세요\n"
          ]
        }
      ],
      "source": [
        "name1 = \"철수\"\n",
        "name2 = \"영희\"\n",
        "hello = \"님, 주소와 전화번호를 입력해주세요\"\n",
        "\n",
        "print(name1 + hello)"
      ]
    },
    {
      "cell_type": "code",
      "execution_count": 16,
      "metadata": {
        "colab": {
          "base_uri": "https://localhost:8080/"
        },
        "id": "eKjzimSOI8M-",
        "outputId": "32a7f48e-5ad1-4cce-dd5e-dbf9a1a62a8a"
      },
      "outputs": [
        {
          "output_type": "stream",
          "name": "stdout",
          "text": [
            "영희님, 주소와 전화번호를 입력해주세요\n"
          ]
        }
      ],
      "source": [
        "print(name2+hello)"
      ]
    },
    {
      "cell_type": "markdown",
      "metadata": {
        "id": "VJMShxrpI8M_"
      },
      "source": [
        "## join()"
      ]
    },
    {
      "cell_type": "code",
      "execution_count": 17,
      "metadata": {
        "colab": {
          "base_uri": "https://localhost:8080/",
          "height": 35
        },
        "id": "V_Ymjv6KI8M_",
        "outputId": "d541abe3-d5ab-4592-ad09-0136070acc36"
      },
      "outputs": [
        {
          "output_type": "execute_result",
          "data": {
            "text/plain": [
              "'서울시 서초구 반포대로 반포동'"
            ],
            "application/vnd.google.colaboratory.intrinsic+json": {
              "type": "string"
            }
          },
          "metadata": {},
          "execution_count": 17
        }
      ],
      "source": [
        "address_list = [\"서울시\", \"서초구\", \"반포대로\", \"반포동\"]\n",
        "a = \" \"\n",
        "a.join(address_list)"
      ]
    },
    {
      "cell_type": "code",
      "execution_count": 18,
      "metadata": {
        "colab": {
          "base_uri": "https://localhost:8080/",
          "height": 35
        },
        "id": "RtVPwsqgI8M_",
        "outputId": "6867506c-cb12-4222-98ea-d3a1fdd03ad8"
      },
      "outputs": [
        {
          "output_type": "execute_result",
          "data": {
            "text/plain": [
              "'서울시^^서초구^^반포대로^^반포동'"
            ],
            "application/vnd.google.colaboratory.intrinsic+json": {
              "type": "string"
            }
          },
          "metadata": {},
          "execution_count": 18
        }
      ],
      "source": [
        "b = \"^^\"\n",
        "b.join(address_list)"
      ]
    },
    {
      "cell_type": "markdown",
      "metadata": {
        "id": "gs82CGkSI8M_"
      },
      "source": [
        "## find()"
      ]
    },
    {
      "cell_type": "code",
      "execution_count": 19,
      "metadata": {
        "colab": {
          "base_uri": "https://localhost:8080/"
        },
        "id": "XBY8IJvoI8M_",
        "outputId": "06edc864-2ad8-4a07-e736-ac327c5e36df"
      },
      "outputs": [
        {
          "output_type": "stream",
          "name": "stdout",
          "text": [
            "위치: 0\n"
          ]
        }
      ],
      "source": [
        "str6 = \"Python code\"\n",
        "print(\"위치:\", str6.find(\"Python\"))"
      ]
    },
    {
      "cell_type": "code",
      "execution_count": 20,
      "metadata": {
        "colab": {
          "base_uri": "https://localhost:8080/"
        },
        "id": "IgTaxz3TI8M_",
        "outputId": "e93353b0-7137-46cc-d52e-12305ac330e4"
      },
      "outputs": [
        {
          "output_type": "stream",
          "name": "stdout",
          "text": [
            "위치: -1\n"
          ]
        }
      ],
      "source": [
        "print(\"위치:\", str6.find(\"hahaha\"))"
      ]
    }
  ],
  "metadata": {
    "kernelspec": {
      "display_name": "Python 3",
      "language": "python",
      "name": "python3"
    },
    "language_info": {
      "codemirror_mode": {
        "name": "ipython",
        "version": 3
      },
      "file_extension": ".py",
      "mimetype": "text/x-python",
      "name": "python",
      "nbconvert_exporter": "python",
      "pygments_lexer": "ipython3",
      "version": "3.8.5"
    },
    "toc": {
      "base_numbering": 1,
      "nav_menu": {},
      "number_sections": false,
      "sideBar": true,
      "skip_h1_title": false,
      "title_cell": "Table of Contents",
      "title_sidebar": "Contents",
      "toc_cell": false,
      "toc_position": {},
      "toc_section_display": true,
      "toc_window_display": true
    },
    "colab": {
      "provenance": [],
      "toc_visible": true,
      "include_colab_link": true
    }
  },
  "nbformat": 4,
  "nbformat_minor": 0
}