{
  "cells": [
    {
      "cell_type": "markdown",
      "metadata": {
        "id": "view-in-github",
        "colab_type": "text"
      },
      "source": [
        "<a href=\"https://colab.research.google.com/github/zzhining/public_data_analysis/blob/main/w12_text_data_analysis_sna.ipynb\" target=\"_parent\"><img src=\"https://colab.research.google.com/assets/colab-badge.svg\" alt=\"Open In Colab\"/></a>"
      ]
    },
    {
      "cell_type": "markdown",
      "metadata": {
        "id": "n4HqCsnvCeKg"
      },
      "source": [
        "# networkx의 기본 사용법 살펴보기"
      ]
    },
    {
      "cell_type": "code",
      "execution_count": 1,
      "metadata": {
        "colab": {
          "base_uri": "https://localhost:8080/"
        },
        "id": "9udNpU4uiI2M",
        "outputId": "34900758-2de4-4768-81fc-4749c108a225"
      },
      "outputs": [
        {
          "output_type": "execute_result",
          "data": {
            "text/plain": [
              "NodeView((1, 2, 3, 4, 5, 6))"
            ]
          },
          "metadata": {},
          "execution_count": 1
        }
      ],
      "source": [
        "import networkx as nx\n",
        "\n",
        "# 네트워크 생성\n",
        "g = nx.Graph() \n",
        "\n",
        "# 노드 생성\n",
        "g.add_node(1)\n",
        "g.add_nodes_from([1, 2, 3, 4, 5, 6]) # 중복으로 추가해도 에러 없음\n",
        "\n",
        "# 노드 정보 확인\n",
        "g.nodes()"
      ]
    },
    {
      "cell_type": "code",
      "execution_count": 2,
      "metadata": {
        "colab": {
          "base_uri": "https://localhost:8080/"
        },
        "id": "K_u7SBJ0iI2T",
        "outputId": "dc191444-8fb0-4144-e0d4-696c2a939c2c"
      },
      "outputs": [
        {
          "output_type": "execute_result",
          "data": {
            "text/plain": [
              "EdgeView([(1, 3), (2, 4), (2, 5), (2, 6), (3, 4), (4, 6), (5, 6)])"
            ]
          },
          "metadata": {},
          "execution_count": 2
        }
      ],
      "source": [
        "# 노드와 노드 연결(엣지 생성)\n",
        "g.add_edge(1,3) \n",
        "g.add_edges_from([(1,3), (2,4), (2,5), (2,6), (3,4), (4,6), (5,6)])\n",
        "\n",
        "# 엣지 정보 확인\n",
        "g.edges()"
      ]
    },
    {
      "cell_type": "code",
      "execution_count": 3,
      "metadata": {
        "colab": {
          "base_uri": "https://localhost:8080/"
        },
        "id": "1HdCcAE5iI2U",
        "outputId": "10c2c834-5278-4889-bd4c-c3cc206a56b6"
      },
      "outputs": [
        {
          "output_type": "stream",
          "name": "stdout",
          "text": [
            "6\n"
          ]
        }
      ],
      "source": [
        "#노드 수\n",
        "print(g.number_of_nodes())"
      ]
    },
    {
      "cell_type": "code",
      "execution_count": 4,
      "metadata": {
        "colab": {
          "base_uri": "https://localhost:8080/"
        },
        "id": "CuiU6Pk_iI2V",
        "outputId": "8c827fe8-47f6-428d-cdbb-8797b2bdec25"
      },
      "outputs": [
        {
          "output_type": "stream",
          "name": "stdout",
          "text": [
            "7\n"
          ]
        }
      ],
      "source": [
        "#엣지 수\n",
        "print(g.number_of_edges())"
      ]
    },
    {
      "cell_type": "code",
      "execution_count": 5,
      "metadata": {
        "colab": {
          "base_uri": "https://localhost:8080/"
        },
        "id": "XSd0b4JRiI2W",
        "outputId": "29ee7ec8-0881-47b2-afa1-899a4fe1a42e"
      },
      "outputs": [
        {
          "output_type": "execute_result",
          "data": {
            "text/plain": [
              "7"
            ]
          },
          "metadata": {},
          "execution_count": 5
        }
      ],
      "source": [
        "len(g.edges())"
      ]
    },
    {
      "cell_type": "code",
      "execution_count": 6,
      "metadata": {
        "colab": {
          "base_uri": "https://localhost:8080/"
        },
        "id": "ZSvT-PcriI2W",
        "outputId": "dd81a05d-003f-437c-cb18-2c894f6c9287"
      },
      "outputs": [
        {
          "output_type": "stream",
          "name": "stdout",
          "text": [
            "{1: 'male', 2: 'female', 3: 'male', 4: 'female', 5: 'male', 6: 'male'}\n"
          ]
        }
      ],
      "source": [
        "#노드의 속성 설정\n",
        "g.nodes[1]['gender']='male'\n",
        "g.nodes[2]['gender']='female'\n",
        "g.nodes[3]['gender']='male'\n",
        "g.nodes[4]['gender']='female'\n",
        "g.nodes[5]['gender']='male'\n",
        "g.nodes[6]['gender']='male'\n",
        "\n",
        "#노드의 속성 출력\n",
        "print(nx.get_node_attributes(g, 'gender'))"
      ]
    },
    {
      "cell_type": "code",
      "execution_count": 7,
      "metadata": {
        "colab": {
          "base_uri": "https://localhost:8080/"
        },
        "id": "j16zV5R_iI2Y",
        "outputId": "19210536-f287-4982-9c43-95a8180be6c1"
      },
      "outputs": [
        {
          "output_type": "stream",
          "name": "stdout",
          "text": [
            "{(1, 3): 3, (2, 4): 1, (2, 5): 4, (2, 6): 3, (3, 4): 2, (4, 6): 3, (5, 6): 4}\n"
          ]
        }
      ],
      "source": [
        "#노드 간의 연결 강도 설정\n",
        "g[1][3]['weight'] = 3\n",
        "g[2][4]['weight'] = 1\n",
        "g[2][5]['weight'] = 4\n",
        "g[2][6]['weight'] = 3\n",
        "g[3][4]['weight'] = 2\n",
        "g[4][6]['weight'] = 3\n",
        "g[5][6]['weight'] = 4\n",
        "\n",
        "print(nx.get_edge_attributes(g, 'weight'))"
      ]
    },
    {
      "cell_type": "code",
      "execution_count": 8,
      "metadata": {
        "colab": {
          "base_uri": "https://localhost:8080/"
        },
        "id": "BS4abj_UiI2Y",
        "outputId": "fbe162e1-c4f1-4222-cd21-f1e82cf9dec4"
      },
      "outputs": [
        {
          "output_type": "execute_result",
          "data": {
            "text/plain": [
              "AtlasView({2: {'weight': 1}, 3: {'weight': 2}, 6: {'weight': 3}})"
            ]
          },
          "metadata": {},
          "execution_count": 8
        }
      ],
      "source": [
        "#노드 4와 연결된 노드\n",
        "g[4] "
      ]
    },
    {
      "cell_type": "code",
      "execution_count": 9,
      "metadata": {
        "colab": {
          "base_uri": "https://localhost:8080/"
        },
        "id": "AHe5aFfHiI2Z",
        "outputId": "bc2c5321-4099-4548-af02-74e2573f2790"
      },
      "outputs": [
        {
          "output_type": "execute_result",
          "data": {
            "text/plain": [
              "3"
            ]
          },
          "metadata": {},
          "execution_count": 9
        }
      ],
      "source": [
        "#노드 4와 연결된 노드 수\n",
        "len(list(g.neighbors(4)))"
      ]
    },
    {
      "cell_type": "code",
      "execution_count": 10,
      "metadata": {
        "colab": {
          "base_uri": "https://localhost:8080/"
        },
        "id": "0P0uHQhYiI2Z",
        "outputId": "a58d9e0e-aad1-49ca-a4ae-b7c7b487b24d"
      },
      "outputs": [
        {
          "output_type": "execute_result",
          "data": {
            "text/plain": [
              "3"
            ]
          },
          "metadata": {},
          "execution_count": 10
        }
      ],
      "source": [
        "#노드 4와 연결된 노드 수\n",
        "g.degree(4)"
      ]
    },
    {
      "cell_type": "code",
      "execution_count": 11,
      "metadata": {
        "colab": {
          "base_uri": "https://localhost:8080/"
        },
        "id": "_9tREfqniI2Z",
        "outputId": "0c676096-3228-4db9-e02d-1b1464afe70b"
      },
      "outputs": [
        {
          "output_type": "execute_result",
          "data": {
            "text/plain": [
              "{'weight': 1}"
            ]
          },
          "metadata": {},
          "execution_count": 11
        }
      ],
      "source": [
        "#노드 4와 노드 2간의 연결 강도\n",
        "g[4][2]"
      ]
    },
    {
      "cell_type": "code",
      "execution_count": 12,
      "metadata": {
        "colab": {
          "base_uri": "https://localhost:8080/"
        },
        "id": "P8_AEv7MiI2a",
        "outputId": "6bd665a8-02a4-478c-fdff-9e86e964b0d5"
      },
      "outputs": [
        {
          "output_type": "execute_result",
          "data": {
            "text/plain": [
              "DegreeView({1: 1, 2: 3, 3: 2, 4: 3, 5: 2, 6: 3})"
            ]
          },
          "metadata": {},
          "execution_count": 12
        }
      ],
      "source": [
        "#그래프의 연결\n",
        "nx.degree(g)"
      ]
    },
    {
      "cell_type": "code",
      "execution_count": 13,
      "metadata": {
        "colab": {
          "base_uri": "https://localhost:8080/",
          "height": 248
        },
        "id": "pvTI9a3qiI2a",
        "outputId": "8ad69768-b8ab-449a-c1da-75095e13d08d"
      },
      "outputs": [
        {
          "output_type": "display_data",
          "data": {
            "text/plain": [
              "<Figure size 432x288 with 1 Axes>"
            ],
            "image/png": "[encoded data removed]"
          },
          "metadata": {}
        }
      ],
      "source": [
        "#그래프 시각화\n",
        "import matplotlib.pyplot as plot\n",
        "nx.draw_networkx(g) \n",
        "plot.show()"
      ]
    },
    {
      "cell_type": "code",
      "execution_count": 14,
      "metadata": {
        "colab": {
          "base_uri": "https://localhost:8080/"
        },
        "id": "42loIKaciI2c",
        "outputId": "d01b2582-7d83-486e-e9b7-e9f0837f3db0"
      },
      "outputs": [
        {
          "output_type": "execute_result",
          "data": {
            "text/plain": [
              "{1: 0.2,\n",
              " 2: 0.6000000000000001,\n",
              " 3: 0.4,\n",
              " 4: 0.6000000000000001,\n",
              " 5: 0.4,\n",
              " 6: 0.6000000000000001}"
            ]
          },
          "metadata": {},
          "execution_count": 14
        }
      ],
      "source": [
        "#연결중심성\n",
        "nx.degree_centrality(g)"
      ]
    },
    {
      "cell_type": "code",
      "execution_count": 15,
      "metadata": {
        "colab": {
          "base_uri": "https://localhost:8080/"
        },
        "id": "S8HJxCJyiI2c",
        "outputId": "32b2f858-5838-4ce3-9697-5a0ad50320fb"
      },
      "outputs": [
        {
          "output_type": "execute_result",
          "data": {
            "text/plain": [
              "{1: 0.0,\n",
              " 2: 0.15000000000000002,\n",
              " 3: 0.4,\n",
              " 4: 0.6000000000000001,\n",
              " 5: 0.0,\n",
              " 6: 0.15000000000000002}"
            ]
          },
          "metadata": {},
          "execution_count": 15
        }
      ],
      "source": [
        "#매개중심성\n",
        "nx.betweenness_centrality(g)"
      ]
    },
    {
      "cell_type": "code",
      "execution_count": 16,
      "metadata": {
        "colab": {
          "base_uri": "https://localhost:8080/"
        },
        "id": "N4OJCPbGiI2c",
        "outputId": "c2826598-5e1d-4078-a613-f22230fe2ace"
      },
      "outputs": [
        {
          "output_type": "execute_result",
          "data": {
            "text/plain": [
              "{1: 0.38461538461538464,\n",
              " 2: 0.625,\n",
              " 3: 0.5555555555555556,\n",
              " 4: 0.7142857142857143,\n",
              " 5: 0.45454545454545453,\n",
              " 6: 0.625}"
            ]
          },
          "metadata": {},
          "execution_count": 16
        }
      ],
      "source": [
        "#근접중심성\n",
        "nx.closeness_centrality(g)"
      ]
    },
    {
      "cell_type": "markdown",
      "metadata": {
        "id": "FD8T8ssvCyHy"
      },
      "source": [
        "# SNA 실습"
      ]
    },
    {
      "cell_type": "markdown",
      "metadata": {
        "id": "xVJPnUngC_WC"
      },
      "source": [
        "## step0- 사전 환경 셋팅\n",
        "\n",
        "\n",
        "*   konlpy, WordCloud 설치\n",
        "*   한글 폰트 설치"
      ]
    },
    {
      "cell_type": "code",
      "execution_count": 17,
      "metadata": {
        "colab": {
          "base_uri": "https://localhost:8080/"
        },
        "id": "bRoju_aviI2c",
        "outputId": "c9719395-a65c-4573-9909-c79c21c48634"
      },
      "outputs": [
        {
          "output_type": "stream",
          "name": "stdout",
          "text": [
            "Looking in indexes: https://pypi.org/simple, https://us-python.pkg.dev/colab-wheels/public/simple/\n",
            "Collecting konlpy\n",
            "  Downloading konlpy-0.6.0-py2.py3-none-any.whl (19.4 MB)\n",
            "\u001b[2K     \u001b[90m━━━━━━━━━━━━━━━━━━━━━━━━━━━━━━━━━━━━━━━━\u001b[0m \u001b[32m19.4/19.4 MB\u001b[0m \u001b[31m41.6 MB/s\u001b[0m eta \u001b[36m0:00:00\u001b[0m\n",
            "\u001b[?25hRequirement already satisfied: lxml>=4.1.0 in /usr/local/lib/python3.8/dist-packages (from konlpy) (4.9.2)\n",
            "Requirement already satisfied: numpy>=1.6 in /usr/local/lib/python3.8/dist-packages (from konlpy) (1.21.6)\n",
            "Collecting JPype1>=0.7.0\n",
            "  Downloading JPype1-1.4.1-cp38-cp38-manylinux_2_12_x86_64.manylinux2010_x86_64.whl (465 kB)\n",
            "\u001b[2K     \u001b[90m━━━━━━━━━━━━━━━━━━━━━━━━━━━━━━━━━━━━━━\u001b[0m \u001b[32m465.6/465.6 KB\u001b[0m \u001b[31m28.4 MB/s\u001b[0m eta \u001b[36m0:00:00\u001b[0m\n",
            "\u001b[?25hRequirement already satisfied: packaging in /usr/local/lib/python3.8/dist-packages (from JPype1>=0.7.0->konlpy) (23.0)\n",
            "Installing collected packages: JPype1, konlpy\n",
            "Successfully installed JPype1-1.4.1 konlpy-0.6.0\n"
          ]
        }
      ],
      "source": [
        "# konlpy 설치\n",
        "!pip install konlpy"
      ]
    },
    {
      "cell_type": "code",
      "execution_count": 18,
      "metadata": {
        "colab": {
          "base_uri": "https://localhost:8080/"
        },
        "id": "g01ZolQFDSC5",
        "outputId": "0c51eb48-89d3-4a28-eaf9-f19e50b73c2b"
      },
      "outputs": [
        {
          "output_type": "execute_result",
          "data": {
            "text/plain": [
              "['이', '노트북', '의미', '연결', '망', '분석', '실습']"
            ]
          },
          "metadata": {},
          "execution_count": 18
        }
      ],
      "source": [
        "# konlpy가 정상적으로 설치되었는지 확인\n",
        "from konlpy.tag import Okt\n",
        "\n",
        "okt = Okt()\n",
        "okt.nouns('이 노트북은 의미 연결망 분석 실습을 합니다.')"
      ]
    },
    {
      "cell_type": "code",
      "execution_count": 19,
      "metadata": {
        "colab": {
          "base_uri": "https://localhost:8080/"
        },
        "id": "F9p2nIpcD3Db",
        "outputId": "f9f73ffe-0e05-4b44-e836-9f266441c012"
      },
      "outputs": [
        {
          "output_type": "stream",
          "name": "stdout",
          "text": [
            "Looking in indexes: https://pypi.org/simple, https://us-python.pkg.dev/colab-wheels/public/simple/\n",
            "Requirement already satisfied: WordCloud in /usr/local/lib/python3.8/dist-packages (1.8.2.2)\n",
            "Requirement already satisfied: pillow in /usr/local/lib/python3.8/dist-packages (from WordCloud) (7.1.2)\n",
            "Requirement already satisfied: numpy>=1.6.1 in /usr/local/lib/python3.8/dist-packages (from WordCloud) (1.21.6)\n",
            "Requirement already satisfied: matplotlib in /usr/local/lib/python3.8/dist-packages (from WordCloud) (3.2.2)\n",
            "Requirement already satisfied: python-dateutil>=2.1 in /usr/local/lib/python3.8/dist-packages (from matplotlib->WordCloud) (2.8.2)\n",
            "Requirement already satisfied: pyparsing!=2.0.4,!=2.1.2,!=2.1.6,>=2.0.1 in /usr/local/lib/python3.8/dist-packages (from matplotlib->WordCloud) (3.0.9)\n",
            "Requirement already satisfied: cycler>=0.10 in /usr/local/lib/python3.8/dist-packages (from matplotlib->WordCloud) (0.11.0)\n",
            "Requirement already satisfied: kiwisolver>=1.0.1 in /usr/local/lib/python3.8/dist-packages (from matplotlib->WordCloud) (1.4.4)\n",
            "Requirement already satisfied: six>=1.5 in /usr/local/lib/python3.8/dist-packages (from python-dateutil>=2.1->matplotlib->WordCloud) (1.15.0)\n"
          ]
        }
      ],
      "source": [
        "# 워드 클라우스 설치\n",
        "!pip install WordCloud"
      ]
    },
    {
      "cell_type": "code",
      "execution_count": 1,
      "metadata": {
        "colab": {
          "base_uri": "https://localhost:8080/"
        },
        "id": "rJzQtNyrDqbP",
        "outputId": "0da74ed9-31ab-45f7-9df4-dd6efa7d0806"
      },
      "outputs": [
        {
          "output_type": "stream",
          "name": "stdout",
          "text": [
            "Reading package lists... Done\n",
            "Building dependency tree       \n",
            "Reading state information... Done\n",
            "fonts-nanum is already the newest version (20180306-3).\n",
            "The following package was automatically installed and is no longer required:\n",
            "  libnvidia-common-510\n",
            "Use 'sudo apt autoremove' to remove it.\n",
            "0 upgraded, 0 newly installed, 0 to remove and 21 not upgraded.\n",
            "/usr/share/fonts: caching, new cache contents: 0 fonts, 1 dirs\n",
            "/usr/share/fonts/truetype: caching, new cache contents: 0 fonts, 3 dirs\n",
            "/usr/share/fonts/truetype/humor-sans: caching, new cache contents: 1 fonts, 0 dirs\n",
            "/usr/share/fonts/truetype/liberation: caching, new cache contents: 16 fonts, 0 dirs\n",
            "/usr/share/fonts/truetype/nanum: caching, new cache contents: 10 fonts, 0 dirs\n",
            "/usr/local/share/fonts: caching, new cache contents: 0 fonts, 0 dirs\n",
            "/root/.local/share/fonts: skipping, no such directory\n",
            "/root/.fonts: skipping, no such directory\n",
            "/usr/share/fonts/truetype: skipping, looped directory detected\n",
            "/usr/share/fonts/truetype/humor-sans: skipping, looped directory detected\n",
            "/usr/share/fonts/truetype/liberation: skipping, looped directory detected\n",
            "/usr/share/fonts/truetype/nanum: skipping, looped directory detected\n",
            "/var/cache/fontconfig: cleaning cache directory\n",
            "/root/.cache/fontconfig: not cleaning non-existent cache directory\n",
            "/root/.fontconfig: not cleaning non-existent cache directory\n",
            "fc-cache: succeeded\n"
          ]
        }
      ],
      "source": [
        "# 한글폰트 설치\n",
        "# 폰트 설치 완료 후, [런타임 > 런타임 다시 시작] 진행\n",
        "!sudo apt-get install -y fonts-nanum\n",
        "!sudo fc-cache -fv\n",
        "!rm ~/.cache/matplotlib -rf"
      ]
    },
    {
      "cell_type": "code",
      "execution_count": 2,
      "metadata": {
        "colab": {
          "base_uri": "https://localhost:8080/"
        },
        "id": "x_WsLJBTEE-q",
        "outputId": "2d5acdde-24e1-4d3e-806b-74339425aa65"
      },
      "outputs": [
        {
          "output_type": "execute_result",
          "data": {
            "text/plain": [
              "['/usr/share/fonts/truetype/nanum/NanumGothic.ttf',\n",
              " '/usr/share/fonts/truetype/nanum/NanumSquareR.ttf',\n",
              " '/usr/share/fonts/truetype/nanum/NanumSquareB.ttf',\n",
              " '/usr/share/fonts/truetype/nanum/NanumBarunGothicBold.ttf',\n",
              " '/usr/share/fonts/truetype/nanum/NanumMyeongjoBold.ttf',\n",
              " '/usr/share/fonts/truetype/nanum/NanumSquareRoundR.ttf',\n",
              " '/usr/share/fonts/truetype/nanum/NanumBarunGothic.ttf',\n",
              " '/usr/share/fonts/truetype/nanum/NanumGothicBold.ttf',\n",
              " '/usr/share/fonts/truetype/nanum/NanumMyeongjo.ttf',\n",
              " '/usr/share/fonts/truetype/nanum/NanumSquareRoundB.ttf']"
            ]
          },
          "metadata": {},
          "execution_count": 2
        }
      ],
      "source": [
        "# 'Nanum'이라는 단어가 들어간 폰트 출력\n",
        "import matplotlib.font_manager as fm\n",
        "fonts = fm.findSystemFonts()\n",
        "[f for f in fonts if 'Nanum' in f]"
      ]
    },
    {
      "cell_type": "code",
      "execution_count": 3,
      "metadata": {
        "id": "QiShFB9AEnqz"
      },
      "outputs": [],
      "source": [
        "text = '''따지고 보면 클래식 음악계만큼 남성 중심적인 분야도 없다. 정치권은 물론 재계에서도 ‘여풍(女風)’이 분 지 오래지만, 클래식 음악계는 아직도 20세기다. 이렇다 할 여성 지휘자도, 작곡가도 없다. 세계적인 오케스트라는 하나같이 ‘남자 지휘자’가 ‘남자 악장’과 손발을 맞춰 ‘남자 위주의 단원’들을 이끄는 구조다.\n",
        "\n",
        "100년 넘게 이어져온 이런 남성 중심의 오케스트라 시스템에 변화의 바람이 불고 있다. 세계 최고 오케스트라로 꼽히는 베를린 필하모닉은 사상 처음 여성 악장을 임명했고, 미국의 명문 관현악단인 뉴욕 필하모닉은 180년 역사상 처음으로 여성 단원 수가 남성보다 많게 재편했다. 전문가들은 “사회 전반을 휩쓴 남녀평등, 여권 신장 등의 이슈가 이제야 클래식 음악계에 닿은 것”이라며 “세계적인 오케스트라를 이끄는 여성 상임 지휘자가 나올 날도 머지않았다”는 전망을 내놨다.\n",
        "19일 외신에 따르면 베를린 필하모닉은 지난 17일 라트비아 출신 바이올리니스트 비네타 사레이카를 악장으로 임명했다. 베를린 필이 여성 악장을 임명한 건 1882년 설립 이후 처음이다. 악장은 단원 전체를 통솔하고 지휘자를 보조하는 중요한 자리다. 전체적인 소리의 균형을 맞추는 것도, 지휘자에게 곡의 해석과 연주 방향에 대한 의견을 제시하는 것도 악장 몫이다. 지휘자가 선생님이라면 악장은 반장인 셈이다. 그래서 악장에겐 지휘자와 함께 무대 뒤 개인 대기실을 쓸 수 있도록 예우해준다.\n",
        "\n",
        "사레이카가 베를린 필의 ‘1호 여성 악장’ 타이틀을 갖게 된 건 그만한 경력을 갖췄기 때문이다. 그는 파리국립고등음악원을 거쳐 퀸 엘리자베스 음악 채플에서 세계적인 바이올리니스트 오귀스탱 뒤메이를 사사했다. 2012년부터 2021년까지 유명 실내악단 아르테미스 콰르텟의 연주자로 활약하며 뛰어난 연주력과 리더십, 앙상블 역량을 인정받았다. 지난해부터 베를린 필에서 연주해온 그는 올해 ‘제1바이올린 콘서트마스터 오디션’에서 우승했다.\n",
        "\n",
        "베를린 필의 라이벌인 빈 필하모닉은 한 발 빨랐다. 2011년 불가리아 출신 바이올리니스트 알베나 다나일로바를 사상 첫 여성 악장으로 뽑았다. 독일 명문 오케스트라 베를린 슈타츠카펠레는 2017년 최초의 동양인·여성 악장으로 한국인 바이올리니스트 이지윤을 임명했다.\n",
        "\n",
        "그동안 전통 있는 오케스트라들은 여성을 꺼렸다. 출산과 육아로 인해 최상의 연주 실력을 유지할 수 없다는 게 이유였다. 그래서 빈 필은 1996년까지는 여성에게 입단 오디션을 허용하지 않았다. 베를린 필은 1982년에야 여성 단원을 뽑았다. 이랬던 전통의 오케스트라들이 사회 변화에 맞춰 변신하고 있는 것이다.\n",
        "\n",
        "오케스트라에 부는 여풍은 몇몇 여성 실력자를 악장으로 임명한 것에 그치지 않는다. 단원 성비가 바뀌는 등 근본적인 오케스트라 구성에 변화가 생기고 있다. 뉴욕 필하모닉은 작년 11월을 기점으로 여성 단원(45명)이 남성(44명)보다 많아졌다. 창단 180년 만에 처음 있는 일이다. 1970년대부터 연주자의 성별과 인종을 보지 않고 오직 연주 실력으로만 평가하는 블라인드 오디션을 도입하면서 오케스트라의 다양성을 확보했다는 평가다.\n",
        "\n",
        "한국에선 오래전부터 양적인 측면에서 여성 단원이 남성을 압도했다. 국내 양대 오케스트라인 서울시향(남 31명·여 59명)과 KBS교향악단(남 28명·여 60명) 모두 여성 단원이 남성보다 두 배 많다. 음악을 전공하는 여성이 남성보다 훨씬 많다 보니 자연스럽게 여초 현상이 생겼다. 하지만 질적인 측면에선 여전히 남성 위주다. 여성이 음악감독(상임지휘자)을 맡은 오케스트라는 많지 않다. 성시연(47·경기 필하모닉), 여자경(53·강남 심포니) 정도다. 해외에서도 조앤 팔레타(69·버지니아 심포니, 버펄로 필하모닉), 마린 올솝(67·볼티모어, 상파울루 심포니), 미르가 그라지니테 틸라(37·영국 버밍엄시 심포니) 등 손에 꼽힐 정도다.\n",
        "\n",
        "클래식 음악계 관계자는 “보수적인 클래식 음악계도 여풍이란 대세를 거스를 수는 없을 것”이라며 “시간이 걸리겠지만 해외는 물론 국내에서도 주요 오케스트라를 이끄는 여성 지휘자가 나올 가능성이 높다”고 말했다.'''"
      ]
    },
    {
      "cell_type": "markdown",
      "metadata": {
        "id": "B7eReHJXbSvU"
      },
      "source": [
        "## step1- 텍스트 전처리"
      ]
    },
    {
      "cell_type": "code",
      "execution_count": 11,
      "metadata": {
        "id": "ENyVdCK3F6k8"
      },
      "outputs": [],
      "source": [
        "from konlpy.tag import Okt\n",
        "import re\n",
        "from collections import Counter\n",
        "import matplotlib.font_manager as fm\n",
        "import networkx as nx\n",
        "import itertools\n",
        "import matplotlib.pyplot as plt\n",
        "\n",
        "# 한글만 추출\n",
        "sentences = re.split(r'[\\.\\?\\!]+', text) # '.','?,'!'가 나오면 문장의 끝이라고 가정하고 해당 문자가 나오면 쪼개줌.\n",
        "filter = re.compile('[^ ㄱ-ㅣ가-힣]+')\n",
        "\n",
        "# 문장 단위로 추출\n",
        "filtered_sentences = []\n",
        "for sentence in sentences:\n",
        "    filtered_sentences.append(filter.sub('', sentence))\n",
        "\n",
        "# 불용어 리스트\n",
        "stopwords = ['년', '닉', '것', '수']\n",
        "\n",
        "# okt를 활용하여 명사만 추출하고, 불용어는 제거하여 리스트 생성\n",
        "okt = Okt()\n",
        "\n",
        "# 불용어는 제외한 명사 리스트\n",
        "cleaned_noun_list = []\n",
        "\n",
        "# 불용어 제거한 명사로 이루어진 문장 리스트\n",
        "cleaned_sentence_list = []\n",
        "\n",
        "for sentence in filtered_sentences:\n",
        "    nouns = okt.nouns(sentence)\n",
        "    clean_contents = [noun for noun in nouns if not noun in stopwords]\n",
        "    cleaned_noun_list.extend(clean_contents)\n",
        "    cleaned_sentence_list.append(clean_contents)"
      ]
    },
    {
      "cell_type": "markdown",
      "metadata": {
        "id": "A1fUHpgWbYhY"
      },
      "source": [
        "## step2 - Word Cloud"
      ]
    },
    {
      "cell_type": "code",
      "execution_count": 12,
      "metadata": {
        "colab": {
          "base_uri": "https://localhost:8080/",
          "height": 198
        },
        "id": "otmbA8zhHAc6",
        "outputId": "4360b6d6-c832-4867-bfaa-1cee8f822162"
      },
      "outputs": [
        {
          "output_type": "display_data",
          "data": {
            "text/plain": [
              "<Figure size 432x288 with 1 Axes>"
            ],
            "image/png": "[encoded data removed]"
          },
          "metadata": {
            "needs_background": "light"
          }
        }
      ],
      "source": [
        "from wordcloud import WordCloud\n",
        "# 단어 빈도수가 두 번 이상 나타난 단어에 대해서 wordcloud 생성\n",
        "c = Counter(cleaned_noun_list)\n",
        "len = 0\n",
        "for key, val in c.items():\n",
        "    if(val > 1) :\n",
        "        len += 1\n",
        "top_nouns = dict(c.most_common(len))\n",
        "# print(top_nouns)\n",
        "\n",
        "FONT_PATH = '/usr/share/fonts/truetype/nanum/NanumGothic.ttf'\n",
        "wordcloud = WordCloud(font_path=FONT_PATH, max_font_size = 60).generate_from_frequencies(top_nouns)\n",
        "plt.figure()\n",
        "plt.imshow(wordcloud, interpolation='bilinear')\n",
        "plt.axis(\"off\")\n",
        "plt.show()"
      ]
    },
    {
      "cell_type": "markdown",
      "metadata": {
        "id": "HLpU4ZP7bfyg"
      },
      "source": [
        "## step3 - SNA"
      ]
    },
    {
      "cell_type": "code",
      "execution_count": 13,
      "metadata": {
        "colab": {
          "base_uri": "https://localhost:8080/",
          "height": 248
        },
        "id": "0cQrEhzvHYis",
        "outputId": "9146d4a6-9ea9-4378-f408-0456dcc7dbdf"
      },
      "outputs": [
        {
          "output_type": "display_data",
          "data": {
            "text/plain": [
              "<Figure size 432x288 with 1 Axes>"
            ],
            "image/png": "[encoded data removed]"
          },
          "metadata": {}
        }
      ],
      "source": [
        "# SNA\n",
        "c = Counter(cleaned_noun_list)\n",
        "NUM_WORDS = 10\n",
        "top_nouns = dict(c.most_common(NUM_WORDS))\n",
        "#print(top_nouns)\n",
        "unique_nouns = list(top_nouns.keys())\n",
        "\n",
        "g = nx.Graph()\n",
        "g.add_nodes_from(unique_nouns)\n",
        "\n",
        "for pair in list(itertools.combinations(list(unique_nouns), 2)):\n",
        "    if pair[0] == pair[1]:\n",
        "        continue\n",
        "    for sent in cleaned_sentence_list:\n",
        "        if pair[0] in sent and pair[1] in sent:\n",
        "            if pair in list(g.edges()) or (pair[1],pair[0]) in list(g.edges()):\n",
        "                g[pair[0]][pair[1]]['weight'] += 1 # tie가 있으면 weight만 추가\n",
        "            else:\n",
        "                g.add_edge(pair[0], pair[1], weight=1 )\n",
        "\n",
        "nx.draw_networkx(g, font_family='NanumGothic')\n",
        "\n",
        "plt.show()"
      ]
    },
    {
      "cell_type": "code",
      "execution_count": 14,
      "metadata": {
        "colab": {
          "base_uri": "https://localhost:8080/"
        },
        "id": "JBCzJrSdIBA4",
        "outputId": "00975c02-0311-4381-d6e1-a677c576b3e2"
      },
      "outputs": [
        {
          "output_type": "stream",
          "name": "stdout",
          "text": [
            "연결중심도\n",
            "[('여성', 1.0), ('오케스트라', 0.8888888888888888), ('악장', 0.7777777777777777), ('남성', 0.7777777777777777), ('단원', 0.7777777777777777), ('지휘자', 0.6666666666666666), ('베를린', 0.6666666666666666), ('음악', 0.5555555555555556), ('클래식', 0.5555555555555556), ('필', 0.4444444444444444)]\n",
            "\n",
            "매개중심도\n",
            "[('여성', 0.13657407407407407), ('오케스트라', 0.05787037037037036), ('남성', 0.04629629629629629), ('악장', 0.034722222222222224), ('단원', 0.034722222222222224), ('지휘자', 0.027777777777777776), ('베를린', 0.013888888888888888), ('음악', 0.004629629629629629), ('클래식', 0.004629629629629629), ('필', 0.0)]\n",
            "\n",
            "근접중심도\n",
            "[('여성', 1.0), ('오케스트라', 0.9), ('악장', 0.8181818181818182), ('남성', 0.8181818181818182), ('단원', 0.8181818181818182), ('지휘자', 0.75), ('베를린', 0.75), ('음악', 0.6923076923076923), ('클래식', 0.6923076923076923), ('필', 0.6428571428571429)]\n",
            "\n",
            "[여성]: 9개 단어와 연결:['오케스트라', '악장', '남성', '지휘자', '단원', '베를린', '음악', '필', '클래식']\n",
            "\n",
            "[오케스트라]: 8개 단어와 연결:['여성', '악장', '남성', '지휘자', '단원', '베를린', '음악', '클래식']\n",
            "\n",
            "[악장]: 7개 단어와 연결:['여성', '오케스트라', '남성', '지휘자', '단원', '베를린', '필']\n",
            "\n",
            "[남성]: 7개 단어와 연결:['여성', '오케스트라', '악장', '단원', '베를린', '음악', '클래식']\n",
            "\n",
            "[지휘자]: 6개 단어와 연결:['여성', '오케스트라', '악장', '단원', '음악', '클래식']\n",
            "\n",
            "[단원]: 7개 단어와 연결:['여성', '오케스트라', '악장', '남성', '지휘자', '베를린', '필']\n",
            "\n",
            "[베를린]: 6개 단어와 연결:['여성', '오케스트라', '악장', '남성', '단원', '필']\n",
            "\n",
            "[음악]: 5개 단어와 연결:['여성', '오케스트라', '남성', '지휘자', '클래식']\n",
            "\n",
            "[필]: 4개 단어와 연결:['여성', '악장', '단원', '베를린']\n",
            "\n",
            "[클래식]: 5개 단어와 연결:['여성', '오케스트라', '남성', '지휘자', '음악']\n"
          ]
        }
      ],
      "source": [
        "print('연결중심도')\n",
        "print(sorted(nx.degree_centrality(g).items(), key=(lambda x :x[1]), reverse=True))\n",
        "print('\\n매개중심도')\n",
        "print(sorted(nx.betweenness_centrality(g).items(), key=(lambda x :x[1]), reverse=True))\n",
        "print('\\n근접중심도')\n",
        "print(sorted(nx.closeness_centrality(g).items(), key=(lambda x :x[1]), reverse=True))\n",
        "\n",
        "for item in unique_nouns:\n",
        "    connected_word_list = list(g[item].keys())\n",
        "    num = g[item].__len__()\n",
        "    print('\\n[{}]: {}개 단어와 연결:'.format(item, num), end ='')    \n",
        "    print(connected_word_list)"
      ]
    },
    {
      "cell_type": "code",
      "source": [],
      "metadata": {
        "id": "hYz_TXNRNJtr"
      },
      "execution_count": null,
      "outputs": []
    }
  ],
  "metadata": {
    "colab": {
      "provenance": [],
      "include_colab_link": true
    },
    "kernelspec": {
      "display_name": "Python 3",
      "language": "python",
      "name": "python3"
    },
    "language_info": {
      "codemirror_mode": {
        "name": "ipython",
        "version": 3
      },
      "file_extension": ".py",
      "mimetype": "text/x-python",
      "name": "python",
      "nbconvert_exporter": "python",
      "pygments_lexer": "ipython3",
      "version": "3.8.5"
    },
    "toc": {
      "base_numbering": 1,
      "nav_menu": {},
      "number_sections": false,
      "sideBar": true,
      "skip_h1_title": false,
      "title_cell": "Table of Contents",
      "title_sidebar": "Contents",
      "toc_cell": false,
      "toc_position": {},
      "toc_section_display": true,
      "toc_window_display": false
    }
  },
  "nbformat": 4,
  "nbformat_minor": 0
}